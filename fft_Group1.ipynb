{
  "cells": [
    {
      "cell_type": "markdown",
      "source": [
        "Submitted By: Group 1\n",
        "\n",
        "`CAI, Edison`\n",
        "`SUSADA, Stephanie Joy`\n"
      ],
      "metadata": {
        "id": "THi_rr5P_Beo"
      }
    },
    {
      "cell_type": "markdown",
      "metadata": {
        "id": "yKYwHO_h6cc-"
      },
      "source": [
        "## FFT implementation in C using Cooley-Tukey Algorithm"
      ]
    },
    {
      "cell_type": "code",
      "execution_count": 63,
      "metadata": {
        "colab": {
          "base_uri": "https://localhost:8080/"
        },
        "id": "zp1efNq0ZBva",
        "outputId": "02990189-aea2-4ab8-d6d4-9b5ffd85e329"
      },
      "outputs": [
        {
          "output_type": "stream",
          "name": "stdout",
          "text": [
            "Overwriting c_fft.c\n"
          ]
        }
      ],
      "source": [
        "%%writefile c_fft.c\n",
        "\n",
        "#include <stdio.h>\n",
        "#include <stdlib.h>\n",
        "#include <time.h>\n",
        "#include <math.h>\n",
        "\n",
        "#define PI 3.141592653589793238462643383279502884\n",
        "\n",
        "typedef struct {\n",
        "    double real;\n",
        "    double imag;\n",
        "} Complex;\n",
        "\n",
        "// kernel\n",
        "\n",
        "void fft(Complex * x, const unsigned int N){\n",
        "    int i, j;\n",
        "\n",
        "    if(N <= 1){\n",
        "      return;\n",
        "    }\n",
        "\n",
        "    Complex* even = (Complex*)malloc(N / 2 * sizeof(Complex));\n",
        "    Complex* odd = (Complex*)malloc(N / 2 * sizeof(Complex));\n",
        "\n",
        "    for(i = 0; i < N/2; i++) {\n",
        "      even[i] = x[2 * i];\n",
        "      odd[i] = x[2 * i + 1];\n",
        "      //if(N == 2)\n",
        "        //printf(\"even = %lf, odd = %lf\\n\", even[i].real, odd[i].real);\n",
        "    }\n",
        "\n",
        "    fft(even, N/2);\n",
        "    fft(odd, N/2);\n",
        "\n",
        "    for (j = 0; j < N / 2; j++){\n",
        "      double theta = -2 * PI * j / N;\n",
        "      //printf(\"theta = %lf, i = %d, n = %d\\n\", theta,j, N);\n",
        "      Complex w;\n",
        "      Complex t;\n",
        "\n",
        "      w.real = cos(theta);\n",
        "      w.imag = sin(theta);\n",
        "      //printf(\"theta = %lf,j = %d, wr = %lf, wi = %lf\\n\",theta,j,w.real,w.imag);\n",
        "\n",
        "      t.real = w.real * odd[j].real - w.imag * odd[j].imag;\n",
        "      t.imag = w.real * odd[j].imag + w.imag * odd[j].real;\n",
        "        //printf(\"treal = %lf, oddr = %lf, oddi = %lf, wr = %lf, wi = %lf\\n\",t.real,odd[j].real,odd[j].imag, w.real, w.imag);\n",
        "        //printf(\"x = %lf, e = %lf, t = %lf, j = %d\", x[j].real, even[j].real,t.real,j);\n",
        "      x[j].real = even[j].real + t.real;\n",
        "      x[j].imag = even[j].imag + t.imag;\n",
        "        //printf(\", ans = %lf\\n\", x[j].real);\n",
        "      x[j + N / 2].real = even[j].real - t.real;\n",
        "      x[j + N / 2].imag = even[j].imag - t.imag;\n",
        "    }\n",
        "\n",
        "    free(even);\n",
        "    free(odd);\n",
        "}\n",
        "\n",
        "int main(){\n",
        "\n",
        "  int i, j;\n",
        "  const unsigned int EXPO = 20;\n",
        "  const unsigned int ARRAY_SIZE = pow(2,EXPO);\n",
        "  const unsigned int ARRAY_BYTES = ARRAY_SIZE * sizeof(Complex);\n",
        "\n",
        "  float *Y;\n",
        "  Complex* input = (Complex*)malloc(ARRAY_BYTES);\n",
        "  Y = (float*)malloc(ARRAY_BYTES);\n",
        "  Complex* copy = (Complex*)malloc(ARRAY_BYTES);\n",
        "\n",
        "  clock_t start, end;\n",
        "\n",
        "  //initialize ARRAY\n",
        "  srand(time(NULL));\n",
        "  unsigned int error;\n",
        "\n",
        "  for(i = 0; i < ARRAY_SIZE; i++){\n",
        "\n",
        "    input[i].real = (double)rand() / RAND_MAX;\n",
        "    //input[i].real = (double)i;\n",
        "    copy[i].real = input[i].real;\n",
        "\n",
        "    input[i].imag = 0.0;\n",
        "    copy[i].imag = input[i].imag;\n",
        "    //printf(\"%f\\n\", input[i].real); //for checking only\n",
        "  }\n",
        "\n",
        "    //fft(input, ARRAY_SIZE);\n",
        "    double sum = 0;\n",
        "    double time_taken;\n",
        "    for(i = 0; i < 30; i++){\n",
        "        start = clock();\n",
        "        fft(input, ARRAY_SIZE);\n",
        "        end = clock();\n",
        "        time_taken = ((double)(end-start))*1e6/ CLOCKS_PER_SEC;\n",
        "        sum += time_taken;\n",
        "\n",
        "        fft(input, ARRAY_SIZE);\n",
        "        fft(input, ARRAY_SIZE);\n",
        "        fft(input, ARRAY_SIZE);\n",
        "\n",
        "        double factor = pow(2, 2*EXPO);\n",
        "        for (j = 0; j < ARRAY_SIZE; j++){\n",
        "            if (!(abs(input[i].real/factor - copy[i].real) <= pow(10,-10) && abs(input[i].imag/factor - copy[i].imag) <= pow(10,-10))){\n",
        "                error++;\n",
        "                //printf(\"input = %.30lf, copy = %.30lf\\n\",(input[i].real/factor - copy[i].real), pow(10,-10));\n",
        "            }\n",
        "        }\n",
        "        //printf(\"C Program finished with %u errors\\n\", error);\n",
        "\n",
        "        /*\n",
        "        printf(\"\\nFFT Output:\\n\");\n",
        "        for (j = 0; j < 10; j++) {\n",
        "            printf(\"%.2lf + %.2lfi\\n\", input[j].real, input[j].imag);\n",
        "        }*/\n",
        "\n",
        "        for(j = 0; j < ARRAY_SIZE; j++){\n",
        "            input[j].real = copy[j].real;\n",
        "            input[j].imag = copy[j].imag;\n",
        "        }\n",
        "    }\n",
        "\n",
        "    printf(\"C Program finished with %u errors\\n\", error);\n",
        "    // Display FFT output\n",
        "    /*\n",
        "    printf(\"\\nFFT Output:\\n\");\n",
        "    for (i = 0; i < 10; i++) {\n",
        "        printf(\"%.2lf + %.2lfi\\n\", input[i].real, input[i].imag);\n",
        "    }*/\n",
        "    double Ave = sum / 30;\n",
        "    printf(\"\\nC function takes average of %f us for array size %d \\n\", Ave, ARRAY_SIZE);\n",
        "\n",
        "    //ERROR checking\n",
        "\n",
        "\n",
        "    free(input);\n",
        "    free(Y);\n",
        "\n",
        "    return 0;\n",
        "}"
      ]
    },
    {
      "cell_type": "code",
      "execution_count": 64,
      "metadata": {
        "colab": {
          "base_uri": "https://localhost:8080/"
        },
        "id": "yWzvBJMBvSwa",
        "outputId": "edf5af5e-14f9-46d7-c996-b9e128eb86bd"
      },
      "outputs": [
        {
          "output_type": "execute_result",
          "data": {
            "text/plain": []
          },
          "metadata": {},
          "execution_count": 64
        }
      ],
      "source": [
        "%%shell\n",
        "g++ c_fft.c -o c_fft"
      ]
    },
    {
      "cell_type": "code",
      "execution_count": null,
      "metadata": {
        "id": "bOHgPJSpve2X"
      },
      "outputs": [],
      "source": [
        "%%shell\n",
        "./c_fft"
      ]
    },
    {
      "cell_type": "markdown",
      "metadata": {
        "id": "Tn4SIrCICbRT"
      },
      "source": [
        "# CUDA Implementation of FFT using Cooley-Tukey Algorithm"
      ]
    },
    {
      "cell_type": "code",
      "execution_count": 66,
      "metadata": {
        "colab": {
          "base_uri": "https://localhost:8080/"
        },
        "id": "QypwjYy9VBlQ",
        "outputId": "446c1026-6136-46dd-b5f7-64f44a9ae250"
      },
      "outputs": [
        {
          "output_type": "stream",
          "name": "stdout",
          "text": [
            "Overwriting cuda_fft.cu\n"
          ]
        }
      ],
      "source": [
        "%%writefile cuda_fft.cu\n",
        "\n",
        "#include <stdio.h>\n",
        "#include <stdlib.h>\n",
        "#include <time.h>\n",
        "#include <math.h>\n",
        "\n",
        "#define PI 3.141592653589793238462643383279502884\n",
        "\n",
        "typedef struct {\n",
        "    double real;\n",
        "    double imag;\n",
        "} Complex;\n",
        "\n",
        "__global__\n",
        "void dupe(Complex* x, Complex* y, const unsigned int N){\n",
        "    int i = blockIdx.x * blockDim.x + threadIdx.x;\n",
        "    int stride = blockDim.x * gridDim.x;\n",
        "    int count;\n",
        "\n",
        "    for(count = i; count < N*2; count+=stride){\n",
        "      y[i] = x[i];\n",
        "    }\n",
        "}\n",
        "\n",
        "// kernel\n",
        "__global__\n",
        "void fft(Complex* x, Complex* y, int degree, const unsigned int N, const unsigned int exp){\n",
        "    int i = blockIdx.x * blockDim.x + threadIdx.x;\n",
        "    int stride = blockDim.x * gridDim.x;\n",
        "    int count;\n",
        "\n",
        "    int m = exp - degree;\n",
        "\n",
        "    for(count = i; count < N; count+=stride){\n",
        "        int idx = (count * 2) - (count % (1 << (m-1)));\n",
        "        int idy = idx + (1 << (m-1));\n",
        "        double tempr = y[idx].real;\n",
        "        double tempi = y[idx].imag;\n",
        "        double tempor = y[idy].real;\n",
        "        double tempoi = y[idy].imag;\n",
        "\n",
        "        double theta = (-2 * PI * (idx/(1<<m))) / (1 << degree + 1);\n",
        "\n",
        "        Complex w;\n",
        "        Complex t;\n",
        "\n",
        "        w.real = cos(theta);\n",
        "        w.imag = sin(theta);\n",
        "\n",
        "        t.real = w.real * tempor - w.imag * tempoi;\n",
        "        t.imag = w.real * tempoi + w.imag * tempor;\n",
        "\n",
        "        x[count].real = tempr + t.real;\n",
        "        x[count].imag = tempi + t.imag;\n",
        "\n",
        "        x[count + N].real = tempr - t.real;\n",
        "        x[count + N].imag = tempi - t.imag;\n",
        "        //printf(\"count = %d, count2 = %d, idx = %d, idy = %d, xr = %lf, tempr = %lf, tr = %lf, wr = %lf, wi = %lf, xidyr = %lf, xidyi = %lf\\n\", count, count+N, idx, idy, x[count].real, tempr, t.real, w.real, w.imag,x[idy].real, x[idy].imag);\n",
        "    }\n",
        "}\n",
        "\n",
        "int main(){\n",
        "\n",
        "  int i;\n",
        "  const unsigned int EXPO = 20;\n",
        "  const unsigned int ARRAY_SIZE = 1 << EXPO;\n",
        "  const unsigned int ARRAY_BYTES = ARRAY_SIZE * sizeof(Complex);\n",
        "  int numThreads = 1024;\n",
        "  int numBlocks = (ARRAY_SIZE+numThreads-1) / numThreads;\n",
        "\n",
        "  float *Y;\n",
        "  Complex *input, *input2, *copy;\n",
        "  cudaMallocManaged(&input, ARRAY_BYTES);\n",
        "  cudaMallocManaged(&input2, ARRAY_BYTES);\n",
        "  cudaMallocManaged(&Y, ARRAY_BYTES);\n",
        "  cudaMallocManaged(&copy, ARRAY_BYTES);\n",
        "\n",
        "  //initialize ARRAY\n",
        "  srand(time(NULL));\n",
        "\n",
        "  for(i = 0; i < ARRAY_SIZE; i++){\n",
        "\n",
        "    //input[i].real = (double)rand() / RAND_MAX;\n",
        "    input[i].real = (double)i;\n",
        "    copy[i].real = input[i].real;\n",
        "\n",
        "    input[i].imag = 0.0;\n",
        "    copy[i].imag = input[i].imag;\n",
        "    //printf(\"%f\\n\", input[i].real); //for checking only\n",
        "  }\n",
        "\n",
        "\n",
        "  for(i = 0; i < EXPO; i++){\n",
        "    dupe <<<numBlocks, numThreads>>> (input, input2, ARRAY_SIZE);\n",
        "    cudaDeviceSynchronize();\n",
        "    fft <<<numBlocks, numThreads>>> (input, input2, i, ARRAY_SIZE/2, EXPO);\n",
        "    cudaDeviceSynchronize();\n",
        "  }\n",
        "\n",
        "  for(i = 0; i < EXPO; i++){\n",
        "    dupe <<<numBlocks, numThreads>>> (input, input2, ARRAY_SIZE);\n",
        "    cudaDeviceSynchronize();\n",
        "    fft <<<numBlocks, numThreads>>> (input, input2, i, ARRAY_SIZE/2, EXPO);\n",
        "    cudaDeviceSynchronize();\n",
        "  }\n",
        "  for(i = 0; i < EXPO; i++){\n",
        "    dupe <<<numBlocks, numThreads>>> (input, input2, ARRAY_SIZE);\n",
        "    cudaDeviceSynchronize();\n",
        "    fft <<<numBlocks, numThreads>>> (input, input2, i, ARRAY_SIZE/2, EXPO);\n",
        "    cudaDeviceSynchronize();\n",
        "  }\n",
        "  for(i = 0; i < EXPO; i++){\n",
        "    dupe <<<numBlocks, numThreads>>> (input, input2, ARRAY_SIZE);\n",
        "    cudaDeviceSynchronize();\n",
        "    fft <<<numBlocks, numThreads>>> (input, input2, i, ARRAY_SIZE/2, EXPO);\n",
        "    cudaDeviceSynchronize();\n",
        "  }\n",
        "\n",
        "    // Display FFT output\n",
        "    double factor = pow(2, 2*EXPO);\n",
        "    printf(\"\\nFFT Output:\\n\");\n",
        "    for (i = 0; i < 10; i++) {\n",
        "        printf(\"%.2lf + %.2lfi, %.2lf + %.2lfi\\n\", input[i].real, input[i].imag/factor, copy[i].real, copy[i].imag);\n",
        "    }\n",
        "    //ERROR checking\n",
        "\n",
        "    unsigned int error;\n",
        "    for (i = 0; i < ARRAY_SIZE; i++){\n",
        "        if (!(abs(input[i].real/factor - copy[i].real) <= pow(10,-8) && abs(input[i].imag/factor - copy[i].imag) <= pow(10,-8))){\n",
        "            error++;\n",
        "            //printf(\"input = %.30lf, copy = %.30lf\\n\",(input[i].real/factor - copy[i].real), pow(10,-10));\n",
        "        }\n",
        "    }\n",
        "\n",
        "\n",
        "    printf(\"CUDA Program finished with %u errors\\n\", error);\n",
        "\n",
        "    cudaFree(input);\n",
        "    cudaFree(input2);\n",
        "    cudaFree(Y);\n",
        "    cudaFree(copy);\n",
        "\n",
        "    return 0;\n",
        "}"
      ]
    },
    {
      "cell_type": "code",
      "execution_count": 67,
      "metadata": {
        "colab": {
          "base_uri": "https://localhost:8080/"
        },
        "id": "vsGhl87xjay2",
        "outputId": "50fda3cf-7038-45eb-9afc-5b9d34046d13"
      },
      "outputs": [
        {
          "output_type": "execute_result",
          "data": {
            "text/plain": []
          },
          "metadata": {},
          "execution_count": 67
        }
      ],
      "source": [
        "%%shell\n",
        "nvcc cuda_fft.cu -o cuda_fft"
      ]
    },
    {
      "cell_type": "code",
      "execution_count": null,
      "metadata": {
        "id": "asj68CXgjbA-"
      },
      "outputs": [],
      "source": [
        "%%shell\n",
        "nvprof ./cuda_fft"
      ]
    }
  ],
  "metadata": {
    "accelerator": "GPU",
    "colab": {
      "provenance": [],
      "gpuType": "T4"
    },
    "kernelspec": {
      "display_name": "Python 3",
      "name": "python3"
    },
    "language_info": {
      "name": "python"
    }
  },
  "nbformat": 4,
  "nbformat_minor": 0
}